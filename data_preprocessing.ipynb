{
 "cells": [
  {
   "attachments": {},
   "cell_type": "markdown",
   "metadata": {},
   "source": [
    "# Data Preprocessing"
   ]
  },
  {
   "attachments": {},
   "cell_type": "markdown",
   "metadata": {},
   "source": [
    "## import"
   ]
  },
  {
   "cell_type": "code",
   "execution_count": 1,
   "metadata": {},
   "outputs": [],
   "source": [
    "# pip install scikit-learn\n",
    "# pip install fastparquet"
   ]
  },
  {
   "cell_type": "code",
   "execution_count": 2,
   "metadata": {},
   "outputs": [],
   "source": [
    "import pandas as pd\n",
    "import numpy as np\n",
    "\n",
    "pd.set_option('mode.chained_assignment',  None) # <==== 경고를 끈다"
   ]
  },
  {
   "attachments": {},
   "cell_type": "markdown",
   "metadata": {},
   "source": [
    "## Read Data"
   ]
  },
  {
   "attachments": {},
   "cell_type": "markdown",
   "metadata": {},
   "source": [
    "### CSV to Parquet"
   ]
  },
  {
   "cell_type": "code",
   "execution_count": 3,
   "metadata": {},
   "outputs": [],
   "source": [
    "# 처음에만 한번 실행. run only at first\n",
    "# def seed_everything(seed):\n",
    "#     random.seed(seed)\n",
    "#     os.environ['PYTHONHASHSEED'] = str(seed)\n",
    "#     np.random.seed(seed)\n",
    "# seed_everything(42) # Seed 고정\n",
    "\n",
    "# def csv_to_parquet(csv_path, save_name):\n",
    "#     df = pd.read_csv(csv_path)\n",
    "#     df.to_parquet(f'./{save_name}.parquet')\n",
    "#     del df\n",
    "#     gc.collect()\n",
    "#     print(save_name, 'Done.')\n",
    "    \n",
    "# csv_to_parquet('./open/train.csv', 'train')\n",
    "# csv_to_parquet('./open/test.csv', 'test')"
   ]
  },
  {
   "cell_type": "code",
   "execution_count": 4,
   "metadata": {},
   "outputs": [],
   "source": [
    "train = pd.read_parquet('./train.parquet')\n",
    "test = pd.read_parquet('./test.parquet')\n",
    "sample_submission = pd.read_csv('./open/sample_submission.csv', index_col = 0)"
   ]
  },
  {
   "cell_type": "code",
   "execution_count": 5,
   "metadata": {},
   "outputs": [],
   "source": [
    "# Dataset Info.\n",
    "\n",
    "# train.csv [파일]\n",
    "# 1,000,000개의 데이터\n",
    "# ID : 샘플 고유 id\n",
    "# 항공편 운항 관련 정보\n",
    "# Month: 해당 항공편의 출발 월\n",
    "# Day_of_Month: Month에 해당하는 월의 날짜\n",
    "# Estimated_Departure_Time: 전산 시스템을 바탕으로 측정된 비행기의 출발 시간 (현지 시각, HH:MM 형식)\n",
    "# Estimated_Arrival_Time: 전산 시스템을 바탕으로 측정된 비행기의 도착 시간 (현지 시각, HH:MM 형식)\n",
    "# Cancelled: 해당 항공편의 취소 여부 (0: 취소되지 않음, 1: 취소됨)\n",
    "# Diverted: 해당 항공편의 경유 여부 (0: 취소되지 않음, 1: 취소됨)\n",
    "# Origin_Airport: 해당 항공편 출발 공항의 고유 코드 (IATA 공항 코드)\n",
    "# Origin_Airport_ID: 해당 항공편 출발 공항의 고유 ID (US DOT ID)\n",
    "# Origin_State: 해당 항공편 출발 공항이 위치한 주의 이름\n",
    "# Destination_Airport: 해당 항공편 도착 공항의 고유 코드 (IATA 공항 코드)\n",
    "# Destination_Airport_ID: 해당 항공편 도착 공항의 고유 ID (US DOT ID)\n",
    "# Destination_State: 해당 항공편 도착 공항이 위치한 주의 이름\n",
    "# Distance: 출발 공항과 도착 공항 사이의 거리 (mile 단위)\n",
    "# Airline: 해당 항공편을 운항하는 항공사\n",
    "# Carrier_Code(IATA): 해당 항공편을 운항하는 항공사의 고유 코드 \n",
    "# (IATA 공항 코드, 단 다른 항공사가 같은 코드를 보유할 수도 있음)\n",
    "# Carrier_ID(DOT): 해당 항공편을 운항하는 항공사의 고유 ID (US DOT ID)\n",
    "# Tail_Number: 해당 항공편을 운항하는 항공기의 고유 등록번호\n",
    "# Delay: 항공편 지연 여부 (Not_Delayed, Delayed)\n",
    "# 예측해야 하는 타깃\n",
    "# 다수의 데이터에 레이블이 존재하지 않음\n",
    "# 준지도학습을 통해 레이블링 가능\n",
    "\n",
    "\n",
    "# test.csv [파일]\n",
    "# 1,000,000개의 데이터\n",
    "# ID : 샘플 고유 id\n",
    "# 항공편 운항 관련 정보\n",
    "# Month: 해당 항공편의 출발 월\n",
    "# Day_of_Month: Month에 해당하는 월의 날짜\n",
    "# Estimated_Departure_Time: 전산 시스템을 바탕으로 측정된 비행기의 출발 시간 (현지 시각, HH:MM 형식)\n",
    "# Estimated_Arrival_Time: 전산 시스템을 바탕으로 측정된 비행기의 도착 시간 (현지 시각, HH:MM 형식)\n",
    "# Cancelled: 해당 항공편의 취소 여부 (0: 취소되지 않음, 1: 취소됨)\n",
    "# Diverted: 해당 항공편의 경유 여부 (0: 취소되지 않음, 1: 취소됨)\n",
    "# Origin_Airport: 해당 항공편 출발 공항의 고유 코드 (IATA 공항 코드)\n",
    "# Origin_Airport_ID: 해당 항공편 출발 공항의 고유 ID (US DOT ID)\n",
    "# Origin_State: 해당 항공편 출발 공항이 위치한 주의 이름\n",
    "# Destination_Airport: 해당 항공편 도착 공항의 고유 코드 (IATA 공항 코드)\n",
    "# Destination_Airport_ID: 해당 항공편 도착 공항의 고유 ID (US DOT ID)\n",
    "# Destination_State: 해당 항공편 도착 공항이 위치한 주의 이름\n",
    "# Distance: 출발 공항과 도착 공항 사이의 거리 (mile 단위)\n",
    "# Airline: 해당 항공편을 운항하는 항공사\n",
    "# Carrier_Code(IATA): 해당 항공편을 운항하는 항공사의 고유 코드 \n",
    "# (IATA 공항 코드, 단 다른 항공사가 같은 코드를 보유할 수도 있음)\n",
    "# Carrier_ID(DOT): 해당 항공편을 운항하는 항공사의 고유 ID (US DOT ID)\n",
    "# Tail_Number: 해당 항공편을 운항하는 항공기의 고유 등록번호"
   ]
  },
  {
   "cell_type": "code",
   "execution_count": 6,
   "metadata": {},
   "outputs": [
    {
     "data": {
      "text/html": [
       "<div>\n",
       "<style scoped>\n",
       "    .dataframe tbody tr th:only-of-type {\n",
       "        vertical-align: middle;\n",
       "    }\n",
       "\n",
       "    .dataframe tbody tr th {\n",
       "        vertical-align: top;\n",
       "    }\n",
       "\n",
       "    .dataframe thead th {\n",
       "        text-align: right;\n",
       "    }\n",
       "</style>\n",
       "<table border=\"1\" class=\"dataframe\">\n",
       "  <thead>\n",
       "    <tr style=\"text-align: right;\">\n",
       "      <th></th>\n",
       "      <th>ID</th>\n",
       "      <th>Month</th>\n",
       "      <th>Day_of_Month</th>\n",
       "      <th>Estimated_Departure_Time</th>\n",
       "      <th>Estimated_Arrival_Time</th>\n",
       "      <th>Cancelled</th>\n",
       "      <th>Diverted</th>\n",
       "      <th>Origin_Airport</th>\n",
       "      <th>Origin_Airport_ID</th>\n",
       "      <th>Origin_State</th>\n",
       "      <th>Destination_Airport</th>\n",
       "      <th>Destination_Airport_ID</th>\n",
       "      <th>Destination_State</th>\n",
       "      <th>Distance</th>\n",
       "      <th>Airline</th>\n",
       "      <th>Carrier_Code(IATA)</th>\n",
       "      <th>Carrier_ID(DOT)</th>\n",
       "      <th>Tail_Number</th>\n",
       "    </tr>\n",
       "  </thead>\n",
       "  <tbody>\n",
       "    <tr>\n",
       "      <th>0</th>\n",
       "      <td>TEST_000000</td>\n",
       "      <td>12</td>\n",
       "      <td>16</td>\n",
       "      <td>1156.0</td>\n",
       "      <td>NaN</td>\n",
       "      <td>0</td>\n",
       "      <td>0</td>\n",
       "      <td>IAH</td>\n",
       "      <td>12266</td>\n",
       "      <td>Texas</td>\n",
       "      <td>SAT</td>\n",
       "      <td>14683</td>\n",
       "      <td>Texas</td>\n",
       "      <td>191.0</td>\n",
       "      <td>United Air Lines Inc.</td>\n",
       "      <td>UA</td>\n",
       "      <td>NaN</td>\n",
       "      <td>N79402</td>\n",
       "    </tr>\n",
       "    <tr>\n",
       "      <th>1</th>\n",
       "      <td>TEST_000001</td>\n",
       "      <td>9</td>\n",
       "      <td>12</td>\n",
       "      <td>1500.0</td>\n",
       "      <td>1715.0</td>\n",
       "      <td>0</td>\n",
       "      <td>0</td>\n",
       "      <td>EWR</td>\n",
       "      <td>11618</td>\n",
       "      <td>New Jersey</td>\n",
       "      <td>ATL</td>\n",
       "      <td>10397</td>\n",
       "      <td>None</td>\n",
       "      <td>746.0</td>\n",
       "      <td>Delta Air Lines Inc.</td>\n",
       "      <td>DL</td>\n",
       "      <td>19790.0</td>\n",
       "      <td>N3765</td>\n",
       "    </tr>\n",
       "    <tr>\n",
       "      <th>2</th>\n",
       "      <td>TEST_000002</td>\n",
       "      <td>3</td>\n",
       "      <td>6</td>\n",
       "      <td>1600.0</td>\n",
       "      <td>1915.0</td>\n",
       "      <td>0</td>\n",
       "      <td>0</td>\n",
       "      <td>ORD</td>\n",
       "      <td>13930</td>\n",
       "      <td>Illinois</td>\n",
       "      <td>LGA</td>\n",
       "      <td>12953</td>\n",
       "      <td>New York</td>\n",
       "      <td>733.0</td>\n",
       "      <td>United Air Lines Inc.</td>\n",
       "      <td>UA</td>\n",
       "      <td>19977.0</td>\n",
       "      <td>N413UA</td>\n",
       "    </tr>\n",
       "    <tr>\n",
       "      <th>3</th>\n",
       "      <td>TEST_000003</td>\n",
       "      <td>5</td>\n",
       "      <td>18</td>\n",
       "      <td>1920.0</td>\n",
       "      <td>2045.0</td>\n",
       "      <td>0</td>\n",
       "      <td>0</td>\n",
       "      <td>OAK</td>\n",
       "      <td>13796</td>\n",
       "      <td>California</td>\n",
       "      <td>LAX</td>\n",
       "      <td>12892</td>\n",
       "      <td>California</td>\n",
       "      <td>337.0</td>\n",
       "      <td>Southwest Airlines Co.</td>\n",
       "      <td>WN</td>\n",
       "      <td>19393.0</td>\n",
       "      <td>N905WN</td>\n",
       "    </tr>\n",
       "    <tr>\n",
       "      <th>4</th>\n",
       "      <td>TEST_000004</td>\n",
       "      <td>7</td>\n",
       "      <td>7</td>\n",
       "      <td>1915.0</td>\n",
       "      <td>2152.0</td>\n",
       "      <td>0</td>\n",
       "      <td>0</td>\n",
       "      <td>FLL</td>\n",
       "      <td>11697</td>\n",
       "      <td>Florida</td>\n",
       "      <td>LAX</td>\n",
       "      <td>12892</td>\n",
       "      <td>California</td>\n",
       "      <td>2343.0</td>\n",
       "      <td>JetBlue Airways</td>\n",
       "      <td>B6</td>\n",
       "      <td>20409.0</td>\n",
       "      <td>N945JT</td>\n",
       "    </tr>\n",
       "  </tbody>\n",
       "</table>\n",
       "</div>"
      ],
      "text/plain": [
       "            ID  Month  Day_of_Month  Estimated_Departure_Time   \n",
       "0  TEST_000000     12            16                    1156.0  \\\n",
       "1  TEST_000001      9            12                    1500.0   \n",
       "2  TEST_000002      3             6                    1600.0   \n",
       "3  TEST_000003      5            18                    1920.0   \n",
       "4  TEST_000004      7             7                    1915.0   \n",
       "\n",
       "   Estimated_Arrival_Time  Cancelled  Diverted Origin_Airport   \n",
       "0                     NaN          0         0            IAH  \\\n",
       "1                  1715.0          0         0            EWR   \n",
       "2                  1915.0          0         0            ORD   \n",
       "3                  2045.0          0         0            OAK   \n",
       "4                  2152.0          0         0            FLL   \n",
       "\n",
       "   Origin_Airport_ID Origin_State Destination_Airport  Destination_Airport_ID   \n",
       "0              12266        Texas                 SAT                   14683  \\\n",
       "1              11618   New Jersey                 ATL                   10397   \n",
       "2              13930     Illinois                 LGA                   12953   \n",
       "3              13796   California                 LAX                   12892   \n",
       "4              11697      Florida                 LAX                   12892   \n",
       "\n",
       "  Destination_State  Distance                 Airline Carrier_Code(IATA)   \n",
       "0             Texas     191.0   United Air Lines Inc.                 UA  \\\n",
       "1              None     746.0    Delta Air Lines Inc.                 DL   \n",
       "2          New York     733.0   United Air Lines Inc.                 UA   \n",
       "3        California     337.0  Southwest Airlines Co.                 WN   \n",
       "4        California    2343.0         JetBlue Airways                 B6   \n",
       "\n",
       "   Carrier_ID(DOT) Tail_Number  \n",
       "0              NaN      N79402  \n",
       "1          19790.0       N3765  \n",
       "2          19977.0      N413UA  \n",
       "3          19393.0      N905WN  \n",
       "4          20409.0      N945JT  "
      ]
     },
     "execution_count": 6,
     "metadata": {},
     "output_type": "execute_result"
    }
   ],
   "source": [
    "test.head(5)"
   ]
  },
  {
   "cell_type": "code",
   "execution_count": 7,
   "metadata": {},
   "outputs": [
    {
     "data": {
      "text/html": [
       "<div>\n",
       "<style scoped>\n",
       "    .dataframe tbody tr th:only-of-type {\n",
       "        vertical-align: middle;\n",
       "    }\n",
       "\n",
       "    .dataframe tbody tr th {\n",
       "        vertical-align: top;\n",
       "    }\n",
       "\n",
       "    .dataframe thead th {\n",
       "        text-align: right;\n",
       "    }\n",
       "</style>\n",
       "<table border=\"1\" class=\"dataframe\">\n",
       "  <thead>\n",
       "    <tr style=\"text-align: right;\">\n",
       "      <th></th>\n",
       "      <th>ID</th>\n",
       "      <th>Month</th>\n",
       "      <th>Day_of_Month</th>\n",
       "      <th>Estimated_Departure_Time</th>\n",
       "      <th>Estimated_Arrival_Time</th>\n",
       "      <th>Cancelled</th>\n",
       "      <th>Diverted</th>\n",
       "      <th>Origin_Airport</th>\n",
       "      <th>Origin_Airport_ID</th>\n",
       "      <th>Origin_State</th>\n",
       "      <th>Destination_Airport</th>\n",
       "      <th>Destination_Airport_ID</th>\n",
       "      <th>Destination_State</th>\n",
       "      <th>Distance</th>\n",
       "      <th>Airline</th>\n",
       "      <th>Carrier_Code(IATA)</th>\n",
       "      <th>Carrier_ID(DOT)</th>\n",
       "      <th>Tail_Number</th>\n",
       "      <th>Delay</th>\n",
       "    </tr>\n",
       "  </thead>\n",
       "  <tbody>\n",
       "    <tr>\n",
       "      <th>0</th>\n",
       "      <td>TRAIN_000000</td>\n",
       "      <td>4</td>\n",
       "      <td>15</td>\n",
       "      <td>NaN</td>\n",
       "      <td>NaN</td>\n",
       "      <td>0</td>\n",
       "      <td>0</td>\n",
       "      <td>OKC</td>\n",
       "      <td>13851</td>\n",
       "      <td>Oklahoma</td>\n",
       "      <td>HOU</td>\n",
       "      <td>12191</td>\n",
       "      <td>Texas</td>\n",
       "      <td>419.0</td>\n",
       "      <td>Southwest Airlines Co.</td>\n",
       "      <td>WN</td>\n",
       "      <td>19393.0</td>\n",
       "      <td>N7858A</td>\n",
       "      <td>None</td>\n",
       "    </tr>\n",
       "    <tr>\n",
       "      <th>1</th>\n",
       "      <td>TRAIN_000001</td>\n",
       "      <td>8</td>\n",
       "      <td>15</td>\n",
       "      <td>740.0</td>\n",
       "      <td>1024.0</td>\n",
       "      <td>0</td>\n",
       "      <td>0</td>\n",
       "      <td>ORD</td>\n",
       "      <td>13930</td>\n",
       "      <td>Illinois</td>\n",
       "      <td>SLC</td>\n",
       "      <td>14869</td>\n",
       "      <td>Utah</td>\n",
       "      <td>1250.0</td>\n",
       "      <td>SkyWest Airlines Inc.</td>\n",
       "      <td>UA</td>\n",
       "      <td>20304.0</td>\n",
       "      <td>N125SY</td>\n",
       "      <td>None</td>\n",
       "    </tr>\n",
       "    <tr>\n",
       "      <th>2</th>\n",
       "      <td>TRAIN_000002</td>\n",
       "      <td>9</td>\n",
       "      <td>6</td>\n",
       "      <td>1610.0</td>\n",
       "      <td>1805.0</td>\n",
       "      <td>0</td>\n",
       "      <td>0</td>\n",
       "      <td>CLT</td>\n",
       "      <td>11057</td>\n",
       "      <td>North Carolina</td>\n",
       "      <td>LGA</td>\n",
       "      <td>12953</td>\n",
       "      <td>New York</td>\n",
       "      <td>544.0</td>\n",
       "      <td>American Airlines Inc.</td>\n",
       "      <td>AA</td>\n",
       "      <td>19805.0</td>\n",
       "      <td>N103US</td>\n",
       "      <td>None</td>\n",
       "    </tr>\n",
       "    <tr>\n",
       "      <th>3</th>\n",
       "      <td>TRAIN_000003</td>\n",
       "      <td>7</td>\n",
       "      <td>10</td>\n",
       "      <td>905.0</td>\n",
       "      <td>1735.0</td>\n",
       "      <td>0</td>\n",
       "      <td>0</td>\n",
       "      <td>LAX</td>\n",
       "      <td>12892</td>\n",
       "      <td>California</td>\n",
       "      <td>EWR</td>\n",
       "      <td>11618</td>\n",
       "      <td>New Jersey</td>\n",
       "      <td>2454.0</td>\n",
       "      <td>United Air Lines Inc.</td>\n",
       "      <td>UA</td>\n",
       "      <td>NaN</td>\n",
       "      <td>N595UA</td>\n",
       "      <td>None</td>\n",
       "    </tr>\n",
       "    <tr>\n",
       "      <th>4</th>\n",
       "      <td>TRAIN_000004</td>\n",
       "      <td>1</td>\n",
       "      <td>11</td>\n",
       "      <td>900.0</td>\n",
       "      <td>1019.0</td>\n",
       "      <td>0</td>\n",
       "      <td>0</td>\n",
       "      <td>SFO</td>\n",
       "      <td>14771</td>\n",
       "      <td>California</td>\n",
       "      <td>ACV</td>\n",
       "      <td>10157</td>\n",
       "      <td>California</td>\n",
       "      <td>250.0</td>\n",
       "      <td>SkyWest Airlines Inc.</td>\n",
       "      <td>UA</td>\n",
       "      <td>20304.0</td>\n",
       "      <td>N161SY</td>\n",
       "      <td>None</td>\n",
       "    </tr>\n",
       "  </tbody>\n",
       "</table>\n",
       "</div>"
      ],
      "text/plain": [
       "             ID  Month  Day_of_Month  Estimated_Departure_Time   \n",
       "0  TRAIN_000000      4            15                       NaN  \\\n",
       "1  TRAIN_000001      8            15                     740.0   \n",
       "2  TRAIN_000002      9             6                    1610.0   \n",
       "3  TRAIN_000003      7            10                     905.0   \n",
       "4  TRAIN_000004      1            11                     900.0   \n",
       "\n",
       "   Estimated_Arrival_Time  Cancelled  Diverted Origin_Airport   \n",
       "0                     NaN          0         0            OKC  \\\n",
       "1                  1024.0          0         0            ORD   \n",
       "2                  1805.0          0         0            CLT   \n",
       "3                  1735.0          0         0            LAX   \n",
       "4                  1019.0          0         0            SFO   \n",
       "\n",
       "   Origin_Airport_ID    Origin_State Destination_Airport   \n",
       "0              13851        Oklahoma                 HOU  \\\n",
       "1              13930        Illinois                 SLC   \n",
       "2              11057  North Carolina                 LGA   \n",
       "3              12892      California                 EWR   \n",
       "4              14771      California                 ACV   \n",
       "\n",
       "   Destination_Airport_ID Destination_State  Distance                 Airline   \n",
       "0                   12191             Texas     419.0  Southwest Airlines Co.  \\\n",
       "1                   14869              Utah    1250.0   SkyWest Airlines Inc.   \n",
       "2                   12953          New York     544.0  American Airlines Inc.   \n",
       "3                   11618        New Jersey    2454.0   United Air Lines Inc.   \n",
       "4                   10157        California     250.0   SkyWest Airlines Inc.   \n",
       "\n",
       "  Carrier_Code(IATA)  Carrier_ID(DOT) Tail_Number Delay  \n",
       "0                 WN          19393.0      N7858A  None  \n",
       "1                 UA          20304.0      N125SY  None  \n",
       "2                 AA          19805.0      N103US  None  \n",
       "3                 UA              NaN      N595UA  None  \n",
       "4                 UA          20304.0      N161SY  None  "
      ]
     },
     "execution_count": 7,
     "metadata": {},
     "output_type": "execute_result"
    }
   ],
   "source": [
    "train.head(5)"
   ]
  },
  {
   "cell_type": "code",
   "execution_count": 8,
   "metadata": {},
   "outputs": [
    {
     "data": {
      "text/plain": [
       "((1000000, 19), (1000000, 18))"
      ]
     },
     "execution_count": 8,
     "metadata": {},
     "output_type": "execute_result"
    }
   ],
   "source": [
    "train.shape,test.shape # train includes delady column"
   ]
  },
  {
   "cell_type": "code",
   "execution_count": 9,
   "metadata": {},
   "outputs": [
    {
     "name": "stdout",
     "output_type": "stream",
     "text": [
      "<class 'pandas.core.frame.DataFrame'>\n",
      "RangeIndex: 1000000 entries, 0 to 999999\n",
      "Data columns (total 19 columns):\n",
      " #   Column                    Non-Null Count    Dtype  \n",
      "---  ------                    --------------    -----  \n",
      " 0   ID                        1000000 non-null  object \n",
      " 1   Month                     1000000 non-null  int64  \n",
      " 2   Day_of_Month              1000000 non-null  int64  \n",
      " 3   Estimated_Departure_Time  890981 non-null   float64\n",
      " 4   Estimated_Arrival_Time    890960 non-null   float64\n",
      " 5   Cancelled                 1000000 non-null  int64  \n",
      " 6   Diverted                  1000000 non-null  int64  \n",
      " 7   Origin_Airport            1000000 non-null  object \n",
      " 8   Origin_Airport_ID         1000000 non-null  int64  \n",
      " 9   Origin_State              890985 non-null   object \n",
      " 10  Destination_Airport       1000000 non-null  object \n",
      " 11  Destination_Airport_ID    1000000 non-null  int64  \n",
      " 12  Destination_State         890921 non-null   object \n",
      " 13  Distance                  1000000 non-null  float64\n",
      " 14  Airline                   891080 non-null   object \n",
      " 15  Carrier_Code(IATA)        891010 non-null   object \n",
      " 16  Carrier_ID(DOT)           891003 non-null   float64\n",
      " 17  Tail_Number               1000000 non-null  object \n",
      " 18  Delay                     255001 non-null   object \n",
      "dtypes: float64(4), int64(6), object(9)\n",
      "memory usage: 145.0+ MB\n",
      "<class 'pandas.core.frame.DataFrame'>\n",
      "RangeIndex: 1000000 entries, 0 to 999999\n",
      "Data columns (total 18 columns):\n",
      " #   Column                    Non-Null Count    Dtype  \n",
      "---  ------                    --------------    -----  \n",
      " 0   ID                        1000000 non-null  object \n",
      " 1   Month                     1000000 non-null  int64  \n",
      " 2   Day_of_Month              1000000 non-null  int64  \n",
      " 3   Estimated_Departure_Time  891016 non-null   float64\n",
      " 4   Estimated_Arrival_Time    890952 non-null   float64\n",
      " 5   Cancelled                 1000000 non-null  int64  \n",
      " 6   Diverted                  1000000 non-null  int64  \n",
      " 7   Origin_Airport            1000000 non-null  object \n",
      " 8   Origin_Airport_ID         1000000 non-null  int64  \n",
      " 9   Origin_State              893495 non-null   object \n",
      " 10  Destination_Airport       1000000 non-null  object \n",
      " 11  Destination_Airport_ID    1000000 non-null  int64  \n",
      " 12  Destination_State         893477 non-null   object \n",
      " 13  Distance                  1000000 non-null  float64\n",
      " 14  Airline                   893473 non-null   object \n",
      " 15  Carrier_Code(IATA)        891007 non-null   object \n",
      " 16  Carrier_ID(DOT)           890994 non-null   float64\n",
      " 17  Tail_Number               1000000 non-null  object \n",
      "dtypes: float64(4), int64(6), object(8)\n",
      "memory usage: 137.3+ MB\n"
     ]
    },
    {
     "data": {
      "text/plain": [
       "(None, None)"
      ]
     },
     "execution_count": 9,
     "metadata": {},
     "output_type": "execute_result"
    }
   ],
   "source": [
    "train.info(),test.info()"
   ]
  },
  {
   "cell_type": "code",
   "execution_count": 10,
   "metadata": {},
   "outputs": [
    {
     "data": {
      "text/plain": [
       "('****** train ******',\n",
       " ID                          1000000\n",
       " Month                            12\n",
       " Day_of_Month                     31\n",
       " Estimated_Departure_Time       1365\n",
       " Estimated_Arrival_Time         1428\n",
       " Cancelled                         1\n",
       " Diverted                          1\n",
       " Origin_Airport                  374\n",
       " Origin_Airport_ID               374\n",
       " Origin_State                     52\n",
       " Destination_Airport             375\n",
       " Destination_Airport_ID          375\n",
       " Destination_State                52\n",
       " Distance                       1597\n",
       " Airline                          28\n",
       " Carrier_Code(IATA)               11\n",
       " Carrier_ID(DOT)                  28\n",
       " Tail_Number                    6430\n",
       " Delay                             2\n",
       " dtype: int64,\n",
       " '****** test ******',\n",
       " ID                          1000000\n",
       " Month                            12\n",
       " Day_of_Month                     31\n",
       " Estimated_Departure_Time       1413\n",
       " Estimated_Arrival_Time         1436\n",
       " Cancelled                         1\n",
       " Diverted                          1\n",
       " Origin_Airport                  379\n",
       " Origin_Airport_ID               379\n",
       " Origin_State                     52\n",
       " Destination_Airport             377\n",
       " Destination_Airport_ID          377\n",
       " Destination_State                52\n",
       " Distance                       1601\n",
       " Airline                          28\n",
       " Carrier_Code(IATA)               18\n",
       " Carrier_ID(DOT)                  28\n",
       " Tail_Number                    6493\n",
       " dtype: int64)"
      ]
     },
     "execution_count": 10,
     "metadata": {},
     "output_type": "execute_result"
    }
   ],
   "source": [
    "# 유일값 확인\n",
    "'****** train ******',train.nunique(),'****** test ******',test.nunique()"
   ]
  },
  {
   "cell_type": "code",
   "execution_count": 11,
   "metadata": {},
   "outputs": [],
   "source": [
    "# Cancelled는 Diverted 모두 1이므로 삭제해도 무방\n",
    "\n",
    "col_drop=['Cancelled','Diverted' ]\n",
    "train=train.drop(col_drop,axis=1)\n",
    "test=test.drop(col_drop,axis=1)"
   ]
  },
  {
   "attachments": {},
   "cell_type": "markdown",
   "metadata": {},
   "source": [
    "## NaN"
   ]
  },
  {
   "cell_type": "code",
   "execution_count": 12,
   "metadata": {},
   "outputs": [],
   "source": [
    "# ID : 샘플 고유 id\n",
    "# 항공편 운항 관련 정보\n",
    "# Month: 해당 항공편의 출발 월\n",
    "# Day_of_Month: Month에 해당하는 월의 날짜\n",
    "\n",
    "## Estimated_Departure_Time: 전산 시스템을 바탕으로 측정된 비행기의 출발 시간 (현지 시각, HH:MM 형식)\n",
    "## Estimated_Arrival_Time: 전산 시스템을 바탕으로 측정된 비행기의 도착 시간 (현지 시각, HH:MM 형식)\n",
    "## 출발시간 도착시간은 연착되지 않은 유사 항공편 데이터를 이용해본다\n",
    "\n",
    "# Cancelled: 해당 항공편의 취소 여부 (0: 취소되지 않음, 1: 취소됨)\n",
    "# Diverted: 해당 항공편의 경유 여부 (0: 취소되지 않음, 1: 취소됨)\n",
    "# Origin_Airport: 해당 항공편 출발 공항의 고유 코드 (IATA 공항 코드)\n",
    "# Origin_Airport_ID: 해당 항공편 출발 공항의 고유 ID (US DOT ID)\n",
    "\n",
    "## Origin_State: 해당 항공편 출발 공항이 위치한 주의 이름\n",
    "## 주의 이름은 출발 공항의 고유 코드가 같은 행을 찾아 주의 이름을 입력 but 공항코드가 있다면 굳이 필요치 않은 행으로 간주된다\n",
    "\n",
    "# Destination_Airport: 해당 항공편 도착 공항의 고유 코드 (IATA 공항 코드)\n",
    "# Destination_Airport_ID: 해당 항공편 도착 공항의 고유 ID (US DOT ID)\n",
    "\n",
    "## Destination_State: 해당 항공편 도착 공항이 위치한 주의 이름\n",
    "## Origin_State와 같은 맥락\n",
    "\n",
    "# Distance: 출발 공항과 도착 공항 사이의 거리 (mile 단위)\n",
    "\n",
    "## Airline: 해당 항공편을 운항하는 항공사\n",
    "## Airline는 Carrier_ID와 같은 값일듯?\n",
    "\n",
    "## Carrier_Code(IATA): 해당 항공편을 운항하는 항공사의 고유 코드 (IATA 공항 코드, 단 다른 항공사가 같은 코드를 보유할 수도 있음)\n",
    "## 다른 항공사와 중복된 코드가 의미가 있을까? trail_number와 Airline을 둘다 안다면 값을 넣을수 있을듯?\n",
    "\n",
    "## Carrier_ID(DOT): 해당 항공편을 운항하는 항공사의 고유 ID (US DOT ID)\n",
    "## 항공사의 고유 ID는 Airline과 같은 값일듯?\n",
    "\n",
    "\n",
    "# Tail_Number: 해당 항공편을 운항하는 항공기의 고유 등록번호\n",
    "## Delay: 항공편 지연 여부 (Not_Delayed, Delayed)"
   ]
  },
  {
   "cell_type": "code",
   "execution_count": 13,
   "metadata": {},
   "outputs": [
    {
     "data": {
      "text/plain": [
       "ID                               0\n",
       "Month                            0\n",
       "Day_of_Month                     0\n",
       "Estimated_Departure_Time    109019\n",
       "Estimated_Arrival_Time      109040\n",
       "Origin_Airport                   0\n",
       "Origin_Airport_ID                0\n",
       "Origin_State                109015\n",
       "Destination_Airport              0\n",
       "Destination_Airport_ID           0\n",
       "Destination_State           109079\n",
       "Distance                         0\n",
       "Airline                     108920\n",
       "Carrier_Code(IATA)          108990\n",
       "Carrier_ID(DOT)             108997\n",
       "Tail_Number                      0\n",
       "Delay                       744999\n",
       "dtype: int64"
      ]
     },
     "execution_count": 13,
     "metadata": {},
     "output_type": "execute_result"
    }
   ],
   "source": [
    "# train NaN\n",
    "pd.isnull(train).sum()"
   ]
  },
  {
   "cell_type": "code",
   "execution_count": 14,
   "metadata": {},
   "outputs": [
    {
     "data": {
      "text/plain": [
       "ID                               0\n",
       "Month                            0\n",
       "Day_of_Month                     0\n",
       "Estimated_Departure_Time    108984\n",
       "Estimated_Arrival_Time      109048\n",
       "Origin_Airport                   0\n",
       "Origin_Airport_ID                0\n",
       "Origin_State                106505\n",
       "Destination_Airport              0\n",
       "Destination_Airport_ID           0\n",
       "Destination_State           106523\n",
       "Distance                         0\n",
       "Airline                     106527\n",
       "Carrier_Code(IATA)          108993\n",
       "Carrier_ID(DOT)             109006\n",
       "Tail_Number                      0\n",
       "dtype: int64"
      ]
     },
     "execution_count": 14,
     "metadata": {},
     "output_type": "execute_result"
    }
   ],
   "source": [
    "# test NaN\n",
    "pd.isnull(test).sum()"
   ]
  },
  {
   "attachments": {},
   "cell_type": "markdown",
   "metadata": {},
   "source": [
    "### Time NaN\n",
    "\n",
    "Estimated_Departure_Time: 전산 시스템을 바탕으로 측정된 비행기의 출발 시간 (현지 시각, HH:MM 형식)  \n",
    "Estimated_Arrival_Time: 전산 시스템을 바탕으로 측정된 비행기의 도착 시간 (현지 시각, HH:MM 형식)  \n",
    "- 출발시간 도착시간은 연착된, 연착되지 않은 항공편 데이터를 이용한다.  \n",
    "- 비행시간을 알아본다 > 시분을 합쳐야하며, 날짜가 바뀌는 경우에 대처해야함 > 출발시간 - 도착시간 평균값을 구한다  \n",
    "- 두가지 경우의 수를 모두 생각하여. 연착된것과 연착되지않은 것에 대입해야한다.  \n",
    "- 출발시간 혹은 도착시간만 알 때는 평균값을 이용하여 넣어준다.\n",
    "- 둘다 모를 때는 출발시간 최빈값을 넣어본다."
   ]
  },
  {
   "cell_type": "code",
   "execution_count": 15,
   "metadata": {},
   "outputs": [
    {
     "data": {
      "text/plain": [
       "890981"
      ]
     },
     "execution_count": 15,
     "metadata": {},
     "output_type": "execute_result"
    }
   ],
   "source": [
    "train['Estimated_Departure_Time'].count()"
   ]
  },
  {
   "attachments": {},
   "cell_type": "markdown",
   "metadata": {},
   "source": [
    "#### HH:MM -> MM"
   ]
  },
  {
   "cell_type": "code",
   "execution_count": 16,
   "metadata": {},
   "outputs": [],
   "source": [
    "def to_minutes(x):\n",
    "    if np.isnan(x):\n",
    "        return x\n",
    "    else :\n",
    "        x=str(int(x))\n",
    "        if len(x)>2:\n",
    "            h,m = int(x[:-2]),int(x[-2:])\n",
    "        else:\n",
    "            h,m = 0,int(x[-2:])\n",
    "        return h*60+m"
   ]
  },
  {
   "cell_type": "code",
   "execution_count": 17,
   "metadata": {},
   "outputs": [],
   "source": [
    "train['dep_time']=0\n",
    "train['Arr_time']=0\n",
    "test['dep_time']=0\n",
    "test['Arr_time']=0\n",
    "\n",
    "train['dep_time']=train['Estimated_Departure_Time'].apply(to_minutes)\n",
    "train['Arr_time']=train['Estimated_Arrival_Time'].apply(to_minutes)\n",
    "test['dep_time']=test['Estimated_Departure_Time'].apply(to_minutes)\n",
    "test['Arr_time']=test['Estimated_Arrival_Time'].apply(to_minutes)"
   ]
  },
  {
   "attachments": {},
   "cell_type": "markdown",
   "metadata": {},
   "source": [
    "#### race_time = Arr_time - dep_time"
   ]
  },
  {
   "cell_type": "code",
   "execution_count": 18,
   "metadata": {},
   "outputs": [],
   "source": [
    "train['race_time']=0\n",
    "test['race_time']=0\n",
    "\n",
    "x = [train,test]\n",
    "\n",
    "for j in x :\n",
    "    for i in range(len(j)):\n",
    "        \n",
    "        if j['dep_time'][i] < j['Arr_time'][i]:\n",
    "            j['race_time'][i]=j['Arr_time'][i]-j['dep_time'][i]\n",
    "\n",
    "        else :\n",
    "            j['race_time'][i]=24*60+j['Arr_time'][i]-j['dep_time'][i]\n"
   ]
  },
  {
   "cell_type": "code",
   "execution_count": 19,
   "metadata": {},
   "outputs": [
    {
     "data": {
      "text/html": [
       "<div>\n",
       "<style scoped>\n",
       "    .dataframe tbody tr th:only-of-type {\n",
       "        vertical-align: middle;\n",
       "    }\n",
       "\n",
       "    .dataframe tbody tr th {\n",
       "        vertical-align: top;\n",
       "    }\n",
       "\n",
       "    .dataframe thead th {\n",
       "        text-align: right;\n",
       "    }\n",
       "</style>\n",
       "<table border=\"1\" class=\"dataframe\">\n",
       "  <thead>\n",
       "    <tr style=\"text-align: right;\">\n",
       "      <th></th>\n",
       "      <th>ID</th>\n",
       "      <th>Month</th>\n",
       "      <th>Day_of_Month</th>\n",
       "      <th>Estimated_Departure_Time</th>\n",
       "      <th>Estimated_Arrival_Time</th>\n",
       "      <th>Origin_Airport</th>\n",
       "      <th>Origin_Airport_ID</th>\n",
       "      <th>Origin_State</th>\n",
       "      <th>Destination_Airport</th>\n",
       "      <th>Destination_Airport_ID</th>\n",
       "      <th>Destination_State</th>\n",
       "      <th>Distance</th>\n",
       "      <th>Airline</th>\n",
       "      <th>Carrier_Code(IATA)</th>\n",
       "      <th>Carrier_ID(DOT)</th>\n",
       "      <th>Tail_Number</th>\n",
       "      <th>Delay</th>\n",
       "      <th>dep_time</th>\n",
       "      <th>Arr_time</th>\n",
       "      <th>race_time</th>\n",
       "    </tr>\n",
       "  </thead>\n",
       "  <tbody>\n",
       "    <tr>\n",
       "      <th>0</th>\n",
       "      <td>TRAIN_000000</td>\n",
       "      <td>4</td>\n",
       "      <td>15</td>\n",
       "      <td>NaN</td>\n",
       "      <td>NaN</td>\n",
       "      <td>OKC</td>\n",
       "      <td>13851</td>\n",
       "      <td>Oklahoma</td>\n",
       "      <td>HOU</td>\n",
       "      <td>12191</td>\n",
       "      <td>Texas</td>\n",
       "      <td>419.0</td>\n",
       "      <td>Southwest Airlines Co.</td>\n",
       "      <td>WN</td>\n",
       "      <td>19393.0</td>\n",
       "      <td>N7858A</td>\n",
       "      <td>None</td>\n",
       "      <td>NaN</td>\n",
       "      <td>NaN</td>\n",
       "      <td>NaN</td>\n",
       "    </tr>\n",
       "    <tr>\n",
       "      <th>1</th>\n",
       "      <td>TRAIN_000001</td>\n",
       "      <td>8</td>\n",
       "      <td>15</td>\n",
       "      <td>740.0</td>\n",
       "      <td>1024.0</td>\n",
       "      <td>ORD</td>\n",
       "      <td>13930</td>\n",
       "      <td>Illinois</td>\n",
       "      <td>SLC</td>\n",
       "      <td>14869</td>\n",
       "      <td>Utah</td>\n",
       "      <td>1250.0</td>\n",
       "      <td>SkyWest Airlines Inc.</td>\n",
       "      <td>UA</td>\n",
       "      <td>20304.0</td>\n",
       "      <td>N125SY</td>\n",
       "      <td>None</td>\n",
       "      <td>460.0</td>\n",
       "      <td>624.0</td>\n",
       "      <td>164.0</td>\n",
       "    </tr>\n",
       "    <tr>\n",
       "      <th>2</th>\n",
       "      <td>TRAIN_000002</td>\n",
       "      <td>9</td>\n",
       "      <td>6</td>\n",
       "      <td>1610.0</td>\n",
       "      <td>1805.0</td>\n",
       "      <td>CLT</td>\n",
       "      <td>11057</td>\n",
       "      <td>North Carolina</td>\n",
       "      <td>LGA</td>\n",
       "      <td>12953</td>\n",
       "      <td>New York</td>\n",
       "      <td>544.0</td>\n",
       "      <td>American Airlines Inc.</td>\n",
       "      <td>AA</td>\n",
       "      <td>19805.0</td>\n",
       "      <td>N103US</td>\n",
       "      <td>None</td>\n",
       "      <td>970.0</td>\n",
       "      <td>1085.0</td>\n",
       "      <td>115.0</td>\n",
       "    </tr>\n",
       "    <tr>\n",
       "      <th>3</th>\n",
       "      <td>TRAIN_000003</td>\n",
       "      <td>7</td>\n",
       "      <td>10</td>\n",
       "      <td>905.0</td>\n",
       "      <td>1735.0</td>\n",
       "      <td>LAX</td>\n",
       "      <td>12892</td>\n",
       "      <td>California</td>\n",
       "      <td>EWR</td>\n",
       "      <td>11618</td>\n",
       "      <td>New Jersey</td>\n",
       "      <td>2454.0</td>\n",
       "      <td>United Air Lines Inc.</td>\n",
       "      <td>UA</td>\n",
       "      <td>NaN</td>\n",
       "      <td>N595UA</td>\n",
       "      <td>None</td>\n",
       "      <td>545.0</td>\n",
       "      <td>1055.0</td>\n",
       "      <td>510.0</td>\n",
       "    </tr>\n",
       "    <tr>\n",
       "      <th>4</th>\n",
       "      <td>TRAIN_000004</td>\n",
       "      <td>1</td>\n",
       "      <td>11</td>\n",
       "      <td>900.0</td>\n",
       "      <td>1019.0</td>\n",
       "      <td>SFO</td>\n",
       "      <td>14771</td>\n",
       "      <td>California</td>\n",
       "      <td>ACV</td>\n",
       "      <td>10157</td>\n",
       "      <td>California</td>\n",
       "      <td>250.0</td>\n",
       "      <td>SkyWest Airlines Inc.</td>\n",
       "      <td>UA</td>\n",
       "      <td>20304.0</td>\n",
       "      <td>N161SY</td>\n",
       "      <td>None</td>\n",
       "      <td>540.0</td>\n",
       "      <td>619.0</td>\n",
       "      <td>79.0</td>\n",
       "    </tr>\n",
       "  </tbody>\n",
       "</table>\n",
       "</div>"
      ],
      "text/plain": [
       "             ID  Month  Day_of_Month  Estimated_Departure_Time   \n",
       "0  TRAIN_000000      4            15                       NaN  \\\n",
       "1  TRAIN_000001      8            15                     740.0   \n",
       "2  TRAIN_000002      9             6                    1610.0   \n",
       "3  TRAIN_000003      7            10                     905.0   \n",
       "4  TRAIN_000004      1            11                     900.0   \n",
       "\n",
       "   Estimated_Arrival_Time Origin_Airport  Origin_Airport_ID    Origin_State   \n",
       "0                     NaN            OKC              13851        Oklahoma  \\\n",
       "1                  1024.0            ORD              13930        Illinois   \n",
       "2                  1805.0            CLT              11057  North Carolina   \n",
       "3                  1735.0            LAX              12892      California   \n",
       "4                  1019.0            SFO              14771      California   \n",
       "\n",
       "  Destination_Airport  Destination_Airport_ID Destination_State  Distance   \n",
       "0                 HOU                   12191             Texas     419.0  \\\n",
       "1                 SLC                   14869              Utah    1250.0   \n",
       "2                 LGA                   12953          New York     544.0   \n",
       "3                 EWR                   11618        New Jersey    2454.0   \n",
       "4                 ACV                   10157        California     250.0   \n",
       "\n",
       "                  Airline Carrier_Code(IATA)  Carrier_ID(DOT) Tail_Number   \n",
       "0  Southwest Airlines Co.                 WN          19393.0      N7858A  \\\n",
       "1   SkyWest Airlines Inc.                 UA          20304.0      N125SY   \n",
       "2  American Airlines Inc.                 AA          19805.0      N103US   \n",
       "3   United Air Lines Inc.                 UA              NaN      N595UA   \n",
       "4   SkyWest Airlines Inc.                 UA          20304.0      N161SY   \n",
       "\n",
       "  Delay  dep_time  Arr_time  race_time  \n",
       "0  None       NaN       NaN        NaN  \n",
       "1  None     460.0     624.0      164.0  \n",
       "2  None     970.0    1085.0      115.0  \n",
       "3  None     545.0    1055.0      510.0  \n",
       "4  None     540.0     619.0       79.0  "
      ]
     },
     "execution_count": 19,
     "metadata": {},
     "output_type": "execute_result"
    }
   ],
   "source": [
    "train.head(5)"
   ]
  },
  {
   "attachments": {},
   "cell_type": "markdown",
   "metadata": {},
   "source": [
    "#### 평균 ( 지연된 것과 지연되지 않은 것)"
   ]
  },
  {
   "attachments": {},
   "cell_type": "markdown",
   "metadata": {},
   "source": [
    "race_time 이 NaN일 경우 찾기  \n",
    "같은 경로를 운행한 비행기를 찾아야함  \n",
    "Origin_Airport_ID와 Destination_Airport_ID 정도로 검색이 가능. 이때 delay not delay 포함해야함 -> 비행기 성능차이는 구분하기 힘듬  \n",
    "NaN 행의 delay, not delay 확인해서 평균값을 넣어줌\n",
    "dep time arr time 둘다 NaN 이면 ? -> delay 여부까지 모른다면 헬이다. 다빼는게 맞나?"
   ]
  },
  {
   "cell_type": "code",
   "execution_count": 20,
   "metadata": {},
   "outputs": [
    {
     "data": {
      "text/plain": [
       "array([None, 'Not_Delayed', 'Delayed'], dtype=object)"
      ]
     },
     "execution_count": 20,
     "metadata": {},
     "output_type": "execute_result"
    }
   ],
   "source": [
    "train['Delay'].unique()"
   ]
  },
  {
   "cell_type": "code",
   "execution_count": 21,
   "metadata": {},
   "outputs": [
    {
     "data": {
      "text/plain": [
       "Delay\n",
       "Not_Delayed    210001\n",
       "Delayed         45000\n",
       "Name: count, dtype: int64"
      ]
     },
     "execution_count": 21,
     "metadata": {},
     "output_type": "execute_result"
    }
   ],
   "source": [
    "train['Delay'].value_counts()"
   ]
  },
  {
   "attachments": {},
   "cell_type": "markdown",
   "metadata": {},
   "source": [
    "race 는 평균 값 혹은 최빈 값으로 넣고  \n",
    "dep와 arr을 추적\n",
    "\n",
    "1. dep | arr 만 nan 인 경우  \n",
    "2. dep & arr nan 인 경우  \n",
    "\n",
    "race = arr - dep  \n",
    "dep = arr - race  \n",
    "arr = race + dep"
   ]
  },
  {
   "attachments": {},
   "cell_type": "markdown",
   "metadata": {},
   "source": [
    "검색속도 증가 방안  \n",
    "race NaN 따로 모으기  \n",
    "delay 부분 따로 모으기  "
   ]
  },
  {
   "cell_type": "code",
   "execution_count": 34,
   "metadata": {},
   "outputs": [],
   "source": [
    "# race NaN / race\n",
    "\n",
    "racedep_nan_train=train[train['race_time'].isnull() & train['dep_time'].isnull() & ~train['Arr_time'].isnull()].reset_index(drop=True) # race dep nan\n",
    "racearr_nan_train=train[train['race_time'].isnull() & train['Arr_time'].isnull() & ~train['dep_time'].isnull()].reset_index(drop=True) # race arr nan\n",
    "nan_train=train[train['race_time'].isnull()&train['Arr_time'].isnull()&train['dep_time'].isnull()].reset_index(drop=True) # race dep arr nan\n",
    "race_train=train[~train['race_time'].isnull()].reset_index(drop=True) # race not nan\n",
    "\n",
    "# # test 데이터 가공이 필요한가? + 테스트엔 delay가 없어서 불가능\n",
    "# racedep_nan_test=test[test['race_time'].isnull() & test['dep_time'].isnull() & ~test['Arr_time'].isnull()].reset_index(drop=True)\n",
    "# racearr_nan_test=test[test['race_time'].isnull() & test['Arr_time'].isnull() & ~test['dep_time'].isnull()].reset_index(drop=True)\n",
    "# nan_test=test[test['race_time'].isnull()&test['Arr_time'].isnull()&test['dep_time'].isnull()].reset_index(drop=True)\n",
    "# race_test=test[~test['race_time'].isnull()].reset_index(drop=True)"
   ]
  },
  {
   "cell_type": "code",
   "execution_count": 35,
   "metadata": {},
   "outputs": [],
   "source": [
    "# delay\n",
    "delayed_train=train[train['Delay']=='Delayed'].reset_index(drop=True)\n",
    "no_delayed_train=train[train['Delay']=='Not_Delayed'].reset_index(drop=True)"
   ]
  },
  {
   "cell_type": "code",
   "execution_count": 36,
   "metadata": {},
   "outputs": [
    {
     "name": "stdout",
     "output_type": "stream",
     "text": [
      "97331\n",
      "72698\n"
     ]
    }
   ],
   "source": [
    "# train dep 혹은 arr가 있는 경우\n",
    "\n",
    "df = [racedep_nan_train,racearr_nan_train]\n",
    "for x in df:\n",
    "    print('before:',x['race_time'].isnull().sum())\n",
    "    for i in range(len(x)):\n",
    "        if x['Delay'][i] == 'Delayed':\n",
    "            x['race_time'][i]=delayed_train[(delayed_train['Origin_Airport_ID']==x['Origin_Airport_ID'][i])&(delayed_train['Destination_Airport_ID']==x['Destination_Airport_ID'][i])]['race_time'].mean()\n",
    "            x['dep_time'][i]=x['Arr_time'][i]-x['race_time'][i]\n",
    "            \n",
    "            if x['dep_time'][i] < 0 :\n",
    "                x['dep_time'][i] += 24*60\n",
    "                \n",
    "        if x['Delay'][i] == 'Not_Delayed':\n",
    "            x['race_time'][i]=no_delayed_train[(no_delayed_train['Origin_Airport_ID']==x['Origin_Airport_ID'][i])&(no_delayed_train['Destination_Airport_ID']==x['Destination_Airport_ID'][i])]['race_time'].mean()\n",
    "            x['dep_time'][i]=x['Arr_time'][i]-x['race_time'][i]\n",
    "\n",
    "            if x['dep_time'][i] < 0 :\n",
    "                x['dep_time'][i] += 24*60\n",
    "    print(\"after:\",x['race_time'].isnull().sum())\n",
    "    "
   ]
  },
  {
   "cell_type": "code",
   "execution_count": 59,
   "metadata": {},
   "outputs": [
    {
     "data": {
      "text/plain": [
       "((11688, 20),\n",
       " Delay\n",
       " Not_Delayed    2512\n",
       " Delayed         519\n",
       " Name: count, dtype: int64,\n",
       " 8657)"
      ]
     },
     "execution_count": 59,
     "metadata": {},
     "output_type": "execute_result"
    }
   ],
   "source": [
    "# train dep arr 둘다 없는 경우 -> delay 파악이 되는 것만 다룬다.\n",
    "\n",
    "nan_train.shape,nan_train['Delay'].value_counts(),nan_train['Delay'].isnull().sum()"
   ]
  },
  {
   "cell_type": "code",
   "execution_count": 61,
   "metadata": {},
   "outputs": [],
   "source": [
    "nan_train=nan_train['Delay'].dropna().reset_index(drop=True)\n",
    "nan_train.shape"
   ]
  },
  {
   "cell_type": "code",
   "execution_count": 62,
   "metadata": {},
   "outputs": [
    {
     "data": {
      "text/plain": [
       "(3031,)"
      ]
     },
     "execution_count": 62,
     "metadata": {},
     "output_type": "execute_result"
    }
   ],
   "source": [
    "# 취소 경유가 없으므로, 출발 도착 공항 id를 이용하여 출발시간, 비행시간 평균값을 넣고, 도착시간은 이를 이용하여 구한다\n",
    "\n",
    "\n"
   ]
  },
  {
   "attachments": {},
   "cell_type": "markdown",
   "metadata": {},
   "source": [
    "### Delay NaN"
   ]
  },
  {
   "cell_type": "code",
   "execution_count": 29,
   "metadata": {},
   "outputs": [
    {
     "data": {
      "text/plain": [
       "array([None, 'Not_Delayed', 'Delayed'], dtype=object)"
      ]
     },
     "execution_count": 29,
     "metadata": {},
     "output_type": "execute_result"
    }
   ],
   "source": [
    "train['Delay'].unique()"
   ]
  },
  {
   "cell_type": "code",
   "execution_count": 30,
   "metadata": {},
   "outputs": [
    {
     "data": {
      "text/plain": [
       "Delay\n",
       "Not_Delayed    210001\n",
       "Delayed         45000\n",
       "Name: count, dtype: int64"
      ]
     },
     "execution_count": 30,
     "metadata": {},
     "output_type": "execute_result"
    }
   ],
   "source": [
    "train['Delay'].value_counts()"
   ]
  },
  {
   "cell_type": "code",
   "execution_count": 31,
   "metadata": {},
   "outputs": [
    {
     "data": {
      "text/plain": [
       "255001"
      ]
     },
     "execution_count": 31,
     "metadata": {},
     "output_type": "execute_result"
    }
   ],
   "source": [
    "train['Delay'].count() # Not_Delayed + Delayed"
   ]
  },
  {
   "cell_type": "code",
   "execution_count": 32,
   "metadata": {},
   "outputs": [
    {
     "data": {
      "text/plain": [
       "744999"
      ]
     },
     "execution_count": 32,
     "metadata": {},
     "output_type": "execute_result"
    }
   ],
   "source": [
    "pd.isnull(train['Delay']).sum() # Nan"
   ]
  },
  {
   "cell_type": "code",
   "execution_count": null,
   "metadata": {},
   "outputs": [],
   "source": []
  }
 ],
 "metadata": {
  "kernelspec": {
   "display_name": "Python 3",
   "language": "python",
   "name": "python3"
  },
  "language_info": {
   "codemirror_mode": {
    "name": "ipython",
    "version": 3
   },
   "file_extension": ".py",
   "mimetype": "text/x-python",
   "name": "python",
   "nbconvert_exporter": "python",
   "pygments_lexer": "ipython3",
   "version": "3.11.3"
  },
  "orig_nbformat": 4
 },
 "nbformat": 4,
 "nbformat_minor": 2
}
