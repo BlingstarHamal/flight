{
 "cells": [
  {
   "attachments": {},
   "cell_type": "markdown",
   "metadata": {},
   "source": [
    "# Data Preprocessing"
   ]
  },
  {
   "attachments": {},
   "cell_type": "markdown",
   "metadata": {},
   "source": [
    "## import"
   ]
  },
  {
   "cell_type": "code",
   "execution_count": null,
   "metadata": {},
   "outputs": [],
   "source": [
    "# pip install scikit-learn\n",
    "# pip install fastparquet"
   ]
  },
  {
   "cell_type": "code",
   "execution_count": null,
   "metadata": {},
   "outputs": [],
   "source": [
    "import pandas as pd\n",
    "import numpy as np\n",
    "\n",
    "pd.set_option('mode.chained_assignment',  None) # <==== 경고를 끈다"
   ]
  },
  {
   "attachments": {},
   "cell_type": "markdown",
   "metadata": {},
   "source": [
    "## Read Data"
   ]
  },
  {
   "attachments": {},
   "cell_type": "markdown",
   "metadata": {},
   "source": [
    "### CSV to Parquet"
   ]
  },
  {
   "cell_type": "code",
   "execution_count": null,
   "metadata": {},
   "outputs": [],
   "source": [
    "# 처음에만 한번 실행. run only at first\n",
    "# def seed_everything(seed):\n",
    "#     random.seed(seed)\n",
    "#     os.environ['PYTHONHASHSEED'] = str(seed)\n",
    "#     np.random.seed(seed)\n",
    "# seed_everything(42) # Seed 고정\n",
    "\n",
    "# def csv_to_parquet(csv_path, save_name):\n",
    "#     df = pd.read_csv(csv_path)\n",
    "#     df.to_parquet(f'./{save_name}.parquet')\n",
    "#     del df\n",
    "#     gc.collect()\n",
    "#     print(save_name, 'Done.')\n",
    "    \n",
    "# csv_to_parquet('./open/train.csv', 'train')\n",
    "# csv_to_parquet('./open/test.csv', 'test')"
   ]
  },
  {
   "cell_type": "code",
   "execution_count": null,
   "metadata": {},
   "outputs": [],
   "source": [
    "train = pd.read_parquet('./train.parquet')\n",
    "test = pd.read_parquet('./test.parquet')\n",
    "sample_submission = pd.read_csv('./open/sample_submission.csv', index_col = 0)"
   ]
  },
  {
   "cell_type": "code",
   "execution_count": null,
   "metadata": {},
   "outputs": [],
   "source": [
    "# Dataset Info.\n",
    "\n",
    "# train.csv [파일]\n",
    "# 1,000,000개의 데이터\n",
    "# ID : 샘플 고유 id\n",
    "# 항공편 운항 관련 정보\n",
    "# Month: 해당 항공편의 출발 월\n",
    "# Day_of_Month: Month에 해당하는 월의 날짜\n",
    "# Estimated_Departure_Time: 전산 시스템을 바탕으로 측정된 비행기의 출발 시간 (현지 시각, HH:MM 형식)\n",
    "# Estimated_Arrival_Time: 전산 시스템을 바탕으로 측정된 비행기의 도착 시간 (현지 시각, HH:MM 형식)\n",
    "# Cancelled: 해당 항공편의 취소 여부 (0: 취소되지 않음, 1: 취소됨)\n",
    "# Diverted: 해당 항공편의 경유 여부 (0: 취소되지 않음, 1: 취소됨)\n",
    "# Origin_Airport: 해당 항공편 출발 공항의 고유 코드 (IATA 공항 코드)\n",
    "# Origin_Airport_ID: 해당 항공편 출발 공항의 고유 ID (US DOT ID)\n",
    "# Origin_State: 해당 항공편 출발 공항이 위치한 주의 이름\n",
    "# Destination_Airport: 해당 항공편 도착 공항의 고유 코드 (IATA 공항 코드)\n",
    "# Destination_Airport_ID: 해당 항공편 도착 공항의 고유 ID (US DOT ID)\n",
    "# Destination_State: 해당 항공편 도착 공항이 위치한 주의 이름\n",
    "# Distance: 출발 공항과 도착 공항 사이의 거리 (mile 단위)\n",
    "# Airline: 해당 항공편을 운항하는 항공사\n",
    "# Carrier_Code(IATA): 해당 항공편을 운항하는 항공사의 고유 코드 \n",
    "# (IATA 공항 코드, 단 다른 항공사가 같은 코드를 보유할 수도 있음)\n",
    "# Carrier_ID(DOT): 해당 항공편을 운항하는 항공사의 고유 ID (US DOT ID)\n",
    "# Tail_Number: 해당 항공편을 운항하는 항공기의 고유 등록번호\n",
    "# Delay: 항공편 지연 여부 (Not_Delayed, Delayed)\n",
    "# 예측해야 하는 타깃\n",
    "# 다수의 데이터에 레이블이 존재하지 않음\n",
    "# 준지도학습을 통해 레이블링 가능\n",
    "\n",
    "\n",
    "# test.csv [파일]\n",
    "# 1,000,000개의 데이터\n",
    "# ID : 샘플 고유 id\n",
    "# 항공편 운항 관련 정보\n",
    "# Month: 해당 항공편의 출발 월\n",
    "# Day_of_Month: Month에 해당하는 월의 날짜\n",
    "# Estimated_Departure_Time: 전산 시스템을 바탕으로 측정된 비행기의 출발 시간 (현지 시각, HH:MM 형식)\n",
    "# Estimated_Arrival_Time: 전산 시스템을 바탕으로 측정된 비행기의 도착 시간 (현지 시각, HH:MM 형식)\n",
    "# Cancelled: 해당 항공편의 취소 여부 (0: 취소되지 않음, 1: 취소됨)\n",
    "# Diverted: 해당 항공편의 경유 여부 (0: 취소되지 않음, 1: 취소됨)\n",
    "# Origin_Airport: 해당 항공편 출발 공항의 고유 코드 (IATA 공항 코드)\n",
    "# Origin_Airport_ID: 해당 항공편 출발 공항의 고유 ID (US DOT ID)\n",
    "# Origin_State: 해당 항공편 출발 공항이 위치한 주의 이름\n",
    "# Destination_Airport: 해당 항공편 도착 공항의 고유 코드 (IATA 공항 코드)\n",
    "# Destination_Airport_ID: 해당 항공편 도착 공항의 고유 ID (US DOT ID)\n",
    "# Destination_State: 해당 항공편 도착 공항이 위치한 주의 이름\n",
    "# Distance: 출발 공항과 도착 공항 사이의 거리 (mile 단위)\n",
    "# Airline: 해당 항공편을 운항하는 항공사\n",
    "# Carrier_Code(IATA): 해당 항공편을 운항하는 항공사의 고유 코드 \n",
    "# (IATA 공항 코드, 단 다른 항공사가 같은 코드를 보유할 수도 있음)\n",
    "# Carrier_ID(DOT): 해당 항공편을 운항하는 항공사의 고유 ID (US DOT ID)\n",
    "# Tail_Number: 해당 항공편을 운항하는 항공기의 고유 등록번호"
   ]
  },
  {
   "cell_type": "code",
   "execution_count": null,
   "metadata": {},
   "outputs": [],
   "source": [
    "test.head(5)"
   ]
  },
  {
   "cell_type": "code",
   "execution_count": null,
   "metadata": {},
   "outputs": [],
   "source": [
    "train.head(5)"
   ]
  },
  {
   "cell_type": "code",
   "execution_count": null,
   "metadata": {},
   "outputs": [],
   "source": [
    "train.shape,test.shape # train includes delady column"
   ]
  },
  {
   "cell_type": "code",
   "execution_count": null,
   "metadata": {},
   "outputs": [],
   "source": [
    "train.info(),test.info()"
   ]
  },
  {
   "cell_type": "code",
   "execution_count": null,
   "metadata": {},
   "outputs": [],
   "source": [
    "# 유일값 확인\n",
    "'****** train ******',train.nunique(),'****** test ******',test.nunique()"
   ]
  },
  {
   "cell_type": "code",
   "execution_count": null,
   "metadata": {},
   "outputs": [],
   "source": [
    "# Cancelled는 Diverted 모두 1이므로 삭제해도 무방\n",
    "\n",
    "col_drop=['Cancelled','Diverted' ]\n",
    "train=train.drop(col_drop,axis=1)\n",
    "test=test.drop(col_drop,axis=1)"
   ]
  },
  {
   "cell_type": "code",
   "execution_count": null,
   "metadata": {},
   "outputs": [],
   "source": [
    "train.groupby(['Origin_Airport']).get_group('EWR')"
   ]
  },
  {
   "attachments": {},
   "cell_type": "markdown",
   "metadata": {},
   "source": [
    "## NaN"
   ]
  },
  {
   "cell_type": "code",
   "execution_count": null,
   "metadata": {},
   "outputs": [],
   "source": [
    "# ID : 샘플 고유 id\n",
    "# 항공편 운항 관련 정보\n",
    "# Month: 해당 항공편의 출발 월\n",
    "# Day_of_Month: Month에 해당하는 월의 날짜\n",
    "\n",
    "## Estimated_Departure_Time: 전산 시스템을 바탕으로 측정된 비행기의 출발 시간 (현지 시각, HH:MM 형식)\n",
    "## Estimated_Arrival_Time: 전산 시스템을 바탕으로 측정된 비행기의 도착 시간 (현지 시각, HH:MM 형식)\n",
    "## 출발시간 도착시간은 연착되지 않은 유사 항공편 데이터를 이용해본다\n",
    "\n",
    "# Cancelled: 해당 항공편의 취소 여부 (0: 취소되지 않음, 1: 취소됨)\n",
    "# Diverted: 해당 항공편의 경유 여부 (0: 취소되지 않음, 1: 취소됨)\n",
    "# Origin_Airport: 해당 항공편 출발 공항의 고유 코드 (IATA 공항 코드)\n",
    "# Origin_Airport_ID: 해당 항공편 출발 공항의 고유 ID (US DOT ID)\n",
    "\n",
    "## Origin_State: 해당 항공편 출발 공항이 위치한 주의 이름\n",
    "## 주의 이름은 출발 공항의 고유 코드가 같은 행을 찾아 주의 이름을 입력 but 공항코드가 있다면 굳이 필요치 않은 행으로 간주된다\n",
    "\n",
    "# Destination_Airport: 해당 항공편 도착 공항의 고유 코드 (IATA 공항 코드)\n",
    "# Destination_Airport_ID: 해당 항공편 도착 공항의 고유 ID (US DOT ID)\n",
    "\n",
    "## Destination_State: 해당 항공편 도착 공항이 위치한 주의 이름\n",
    "## Origin_State와 같은 맥락\n",
    "\n",
    "# Distance: 출발 공항과 도착 공항 사이의 거리 (mile 단위)\n",
    "\n",
    "## Airline: 해당 항공편을 운항하는 항공사\n",
    "## Airline는 Carrier_ID와 같은 값일듯?\n",
    "\n",
    "## Carrier_Code(IATA): 해당 항공편을 운항하는 항공사의 고유 코드 (IATA 공항 코드, 단 다른 항공사가 같은 코드를 보유할 수도 있음)\n",
    "## 다른 항공사와 중복된 코드가 의미가 있을까? trail_number와 Airline을 둘다 안다면 값을 넣을수 있을듯?\n",
    "\n",
    "## Carrier_ID(DOT): 해당 항공편을 운항하는 항공사의 고유 ID (US DOT ID)\n",
    "## 항공사의 고유 ID는 Airline과 같은 값일듯?\n",
    "\n",
    "\n",
    "# Tail_Number: 해당 항공편을 운항하는 항공기의 고유 등록번호\n",
    "## Delay: 항공편 지연 여부 (Not_Delayed, Delayed)"
   ]
  },
  {
   "cell_type": "code",
   "execution_count": null,
   "metadata": {},
   "outputs": [],
   "source": [
    "# train NaN\n",
    "pd.isnull(train).sum()"
   ]
  },
  {
   "cell_type": "code",
   "execution_count": null,
   "metadata": {},
   "outputs": [],
   "source": [
    "# test NaN\n",
    "pd.isnull(test).sum()"
   ]
  },
  {
   "attachments": {},
   "cell_type": "markdown",
   "metadata": {},
   "source": [
    "### Time NaN\n",
    "\n",
    "Estimated_Departure_Time: 전산 시스템을 바탕으로 측정된 비행기의 출발 시간 (현지 시각, HH:MM 형식)  \n",
    "Estimated_Arrival_Time: 전산 시스템을 바탕으로 측정된 비행기의 도착 시간 (현지 시각, HH:MM 형식)  \n",
    "- 출발시간 도착시간은 연착된, 연착되지 않은 항공편 데이터를 이용한다.  \n",
    "- 비행시간을 알아본다 > 시분을 합쳐야하며, 날짜가 바뀌는 경우에 대처해야함 > 출발시간 - 도착시간 평균값을 구한다  \n",
    "- 두가지 경우의 수를 모두 생각하여. 연착된것과 연착되지않은 것에 대입해야한다.  \n",
    "- 출발시간 혹은 도착시간만 알 때는 평균값을 이용하여 넣어준다.\n",
    "- 둘다 모를 때는 출발시간 최빈값을 넣어본다."
   ]
  },
  {
   "cell_type": "code",
   "execution_count": null,
   "metadata": {},
   "outputs": [],
   "source": [
    "train['Estimated_Departure_Time'].count()"
   ]
  },
  {
   "attachments": {},
   "cell_type": "markdown",
   "metadata": {},
   "source": [
    "#### HH:MM -> MM"
   ]
  },
  {
   "cell_type": "code",
   "execution_count": null,
   "metadata": {},
   "outputs": [],
   "source": [
    "def to_minutes(x):\n",
    "    if np.isnan(x):\n",
    "        return x\n",
    "    else :\n",
    "        x=str(int(x))\n",
    "        if len(x)>2:\n",
    "            h,m = int(x[:-2]),int(x[-2:])\n",
    "        else:\n",
    "            h,m = 0,int(x[-2:])\n",
    "        return h*60+m"
   ]
  },
  {
   "cell_type": "code",
   "execution_count": null,
   "metadata": {},
   "outputs": [],
   "source": [
    "train['dep_time']=0\n",
    "train['Arr_time']=0\n",
    "test['dep_time']=0\n",
    "test['Arr_time']=0\n",
    "\n",
    "train['dep_time']=train['Estimated_Departure_Time'].apply(to_minutes)\n",
    "train['Arr_time']=train['Estimated_Arrival_Time'].apply(to_minutes)\n",
    "test['dep_time']=test['Estimated_Departure_Time'].apply(to_minutes)\n",
    "test['Arr_time']=test['Estimated_Arrival_Time'].apply(to_minutes)"
   ]
  },
  {
   "attachments": {},
   "cell_type": "markdown",
   "metadata": {},
   "source": [
    "#### race_time = Arr_time - dep_time"
   ]
  },
  {
   "cell_type": "code",
   "execution_count": null,
   "metadata": {},
   "outputs": [],
   "source": [
    "train['race_time']=0\n",
    "test['race_time']=0\n",
    "\n",
    "x = [train,test]\n",
    "\n",
    "for j in x :\n",
    "    for i in range(len(j)):\n",
    "        \n",
    "        if j['dep_time'][i] < j['Arr_time'][i]:\n",
    "            j['race_time'][i]=j['Arr_time'][i]-j['dep_time'][i]\n",
    "\n",
    "        else :\n",
    "            j['race_time'][i]=24*60+j['Arr_time'][i]-j['dep_time'][i]\n"
   ]
  },
  {
   "cell_type": "code",
   "execution_count": null,
   "metadata": {},
   "outputs": [],
   "source": [
    "train.head(5)"
   ]
  },
  {
   "attachments": {},
   "cell_type": "markdown",
   "metadata": {},
   "source": [
    "#### 평균 ( 지연된 것과 지연되지 않은 것)"
   ]
  },
  {
   "attachments": {},
   "cell_type": "markdown",
   "metadata": {},
   "source": [
    "race_time 이 NaN일 경우 찾기  \n",
    "같은 경로를 운행한 비행기를 찾아야함  \n",
    "Origin_Airport_ID와 Destination_Airport_ID 정도로 검색이 가능. 이때 delay not delay 포함해야함 -> 비행기 성능차이는 구분하기 힘듬  \n",
    "NaN 행의 delay, not delay 확인해서 평균값을 넣어줌\n",
    "dep time arr time 둘다 NaN 이면 ? -> delay 여부까지 모른다면 헬이다. 다빼는게 맞나?"
   ]
  },
  {
   "cell_type": "code",
   "execution_count": null,
   "metadata": {},
   "outputs": [],
   "source": [
    "train['Delay'].unique()"
   ]
  },
  {
   "cell_type": "code",
   "execution_count": null,
   "metadata": {},
   "outputs": [],
   "source": [
    "train['Delay'].value_counts()"
   ]
  },
  {
   "cell_type": "code",
   "execution_count": null,
   "metadata": {},
   "outputs": [],
   "source": [
    "train.groupby('Delay').get_group('Delayed')[(train['Origin_Airport_ID']==11278)&(train['Destination_Airport_ID']==14122)]['race_time'].mean()"
   ]
  },
  {
   "attachments": {},
   "cell_type": "markdown",
   "metadata": {},
   "source": [
    "race 는 평균 값 혹은 최빈 값으로 넣고  \n",
    "dep와 arr을 추적\n",
    "\n",
    "1. dep | arr 만 nan 인 경우  \n",
    "2. dep & arr nan 인 경우  \n",
    "\n",
    "race = arr - dep  \n",
    "dep = arr - race  \n",
    "arr = race + dep"
   ]
  },
  {
   "cell_type": "code",
   "execution_count": null,
   "metadata": {},
   "outputs": [],
   "source": [
    "# 너무 느림. nan 파일을 따로 나누어서 하는게 맞을듯\n",
    "\n",
    "# x=[train,test]\n",
    "\n",
    "# # only dep in nan\n",
    "# for i in x:\n",
    "#     for j in range(len(i)):\n",
    "#         if np.isnan(i['race_time'][j]): # race NaN 검색\n",
    "            \n",
    "#             if np.isnan(i['dep_time'][j]): # only dep NaN 검색\n",
    "#                 if not np.isnan(i['Arr_time'][j]): # Arr not NaN 검색\n",
    "                    \n",
    "#                     if i['Delay'][j] == 'Delayed':# delayed\n",
    "#                         i['race_time'][j]=i.groupby('Delay').get_group('Delayed')\\\n",
    "#                             [(i['Origin_Airport_ID']==i['Origin_Airport_ID'][j])&(i['Destination_Airport_ID']==i['Destination_Airport_ID'][j])]['race_time'].mean()\n",
    "#                         i['dep_time'][j]=i['Arr_time'][j]-i['race_time'][j]\n",
    "                        \n",
    "#                         if i['dep_time'][j] < 0: # 날짜가 변경되면 출발시간에 24시간을 더해줘야함\n",
    "#                             i['dep_time'][j] += 24*60\n",
    "                            \n",
    "#                     if i['Delay'][j] == 'Not_Delayed':# not_delayed\n",
    "#                         i['race_time'][j]=i.groupby('Delay').get_group('Not_Delayed')\\\n",
    "#                             [(i['Origin_Airport_ID']==i['Origin_Airport_ID'][j])&(i['Destination_Airport_ID']==i['Destination_Airport_ID'][j])]['race_time'].mean()\n",
    "#                         i['dep_time'][j]=i['Arr_time'][j]-i['race_time'][j]\n",
    "                        \n",
    "#                         if i['dep_time'][j] < 0:\n",
    "#                             i['dep_time'][j] += 24*60\n",
    "                            \n",
    "#             if np.isnan(i['Arr_time'][j]): # only Arr NaN 검색\n",
    "#                     if not np.isnan(i['dep_time'][j]): # dep not NaN 검색\n",
    "                        \n",
    "#                         if i['Delay'][j] == 'Delayed':# delayed\n",
    "#                             i['race_time'][j]=i.groupby('Delay').get_group('Delayed')\\\n",
    "#                                 [(i['Origin_Airport_ID']==i['Origin_Airport_ID'][j])&(i['Destination_Airport_ID']==i['Destination_Airport_ID'][j])]['race_time'].mean()\n",
    "#                             i['Arr_time'][j]=i['race_time'][j]+i['dep_time'][j]\n",
    "                            \n",
    "#                             if i['Arr_time'][j] >= 24*60 : # 합이 자정(00:00)이상이면 빼줘야함\n",
    "#                                 i['Arr_time'][j] -= 24*60\n",
    "                                \n",
    "#                         if i['Delay'][j] == 'Not_Delayed':# not_delayed\n",
    "#                             i['race_time'][j]=i.groupby('Delay').get_group('Not_Delayed')\\\n",
    "#                                 [(i['Origin_Airport_ID']==i['Origin_Airport_ID'][j])&(i['Destination_Airport_ID']==i['Destination_Airport_ID'][j])]['race_time'].mean()\n",
    "#                             i['Arr_time'][j]=i['race_time'][j]+i['dep_time'][j]\n",
    "                            \n",
    "#                             if i['Arr_time'][j] >= 24*60 : # 합이 자정(00:00)이상이면 빼줘야함\n",
    "#                                 i['Arr_time'][j] -= 24*60"
   ]
  },
  {
   "attachments": {},
   "cell_type": "markdown",
   "metadata": {},
   "source": [
    "### Delay NaN"
   ]
  },
  {
   "cell_type": "code",
   "execution_count": null,
   "metadata": {},
   "outputs": [],
   "source": [
    "train['Delay'].unique()"
   ]
  },
  {
   "cell_type": "code",
   "execution_count": null,
   "metadata": {},
   "outputs": [],
   "source": [
    "train['Delay'].value_counts()"
   ]
  },
  {
   "cell_type": "code",
   "execution_count": null,
   "metadata": {},
   "outputs": [],
   "source": [
    "train['Delay'].count() # Not_Delayed + Delayed"
   ]
  },
  {
   "cell_type": "code",
   "execution_count": null,
   "metadata": {},
   "outputs": [],
   "source": [
    "pd.isnull(train['Delay']).sum() # Nan"
   ]
  },
  {
   "cell_type": "code",
   "execution_count": null,
   "metadata": {},
   "outputs": [],
   "source": []
  }
 ],
 "metadata": {
  "kernelspec": {
   "display_name": "Python 3",
   "language": "python",
   "name": "python3"
  },
  "language_info": {
   "codemirror_mode": {
    "name": "ipython",
    "version": 3
   },
   "file_extension": ".py",
   "mimetype": "text/x-python",
   "name": "python",
   "nbconvert_exporter": "python",
   "pygments_lexer": "ipython3",
   "version": "3.11.3"
  },
  "orig_nbformat": 4
 },
 "nbformat": 4,
 "nbformat_minor": 2
}
